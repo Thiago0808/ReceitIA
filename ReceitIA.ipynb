{
  "nbformat": 4,
  "nbformat_minor": 0,
  "metadata": {
    "colab": {
      "provenance": [],
      "authorship_tag": "ABX9TyNK4iCaBicK4nRdTDt4VCIx",
      "include_colab_link": true
    },
    "kernelspec": {
      "name": "python3",
      "display_name": "Python 3"
    },
    "language_info": {
      "name": "python"
    }
  },
  "cells": [
    {
      "cell_type": "markdown",
      "metadata": {
        "id": "view-in-github",
        "colab_type": "text"
      },
      "source": [
        "<a href=\"https://colab.research.google.com/github/Thiago0808/ReceitIA/blob/main/ReceitIA.ipynb\" target=\"_parent\"><img src=\"https://colab.research.google.com/assets/colab-badge.svg\" alt=\"Open In Colab\"/></a>"
      ]
    },
    {
      "cell_type": "code",
      "execution_count": 9,
      "metadata": {
        "colab": {
          "base_uri": "https://localhost:8080/",
          "height": 1000
        },
        "id": "_F-R-DwdINyb",
        "outputId": "212c95fa-ff21-41fb-b67c-18b9ae6e8be4"
      },
      "outputs": [
        {
          "output_type": "stream",
          "name": "stdout",
          "text": [
            "Olá, bem-vindo ao ReceitIA!\n",
            "Qual receita você deseja conhecer: Pedra\n",
            "------------------------------\n",
            "Pedra não tem receita\n",
            "Insirá uma receita válida:\n",
            "Sapato\n",
            "------------------------------\n",
            "Sapato não tem receita\n",
            "Insirá uma receita válida:\n",
            "Pizza de Frango\n",
            "------------------------------\n",
            "Receita:  **Ingredientes para a Massa:**\n",
            "\n",
            "* 1 xícara (120g) de farinha de trigo\n",
            "* 1/2 colher de chá de sal\n",
            "* 1/2 colher de chá de fermento biológico seco\n",
            "* 1/2 xícara (120ml) de água morna\n",
            "\n",
            "**Ingredientes para o Recheio:**\n",
            "\n",
            "* 1 peito de frango cozido e desfiado\n",
            "* 1/2 cebola picada\n",
            "* 1 dente de alho picado\n",
            "* 1/2 xícara (120g) de molho de tomate\n",
            "* 1/2 xícara (120g) de queijo mussarela ralado\n",
            "* Orégano a gosto\n",
            "\n",
            "**Instruções:**\n",
            "\n",
            "**Para a Massa:**\n",
            "\n",
            "1. Em uma tigela, misture a farinha, o sal e o fermento.\n",
            "2. Adicione a água morna aos poucos e misture até formar uma massa homogênea.\n",
            "3. Sove a massa por 5-7 minutos até ficar lisa e elástica.\n",
            "4. Coloque a massa em uma tigela untada com óleo, cubra com filme plástico e deixe descansar em local aquecido por 1 hora, ou até dobrar de volume.\n",
            "\n",
            "**Para o Recheio:**\n",
            "\n",
            "1. Em uma frigideira, refogue a cebola e o alho no azeite até ficarem macios.\n",
            "2. Adicione o frango desfiado e cozinhe por mais 5 minutos.\n",
            "3. Tempere com sal e pimenta a gosto.\n",
            "\n",
            "**Para Montar a Pizza:**\n",
            "\n",
            "1. Pré-aqueça o forno a 250°C.\n",
            "2. Abra a massa em um círculo com cerca de 30 cm de diâmetro.\n",
            "3. Espalhe o molho de tomate sobre a massa, deixando uma borda de cerca de 2 cm.\n",
            "4. Distribua o frango refogado sobre o molho.\n",
            "5. Polvilhe o queijo mussarela ralado sobre o frango.\n",
            "6. Tempere com orégano a gosto.\n",
            "7. Asse por 10-15 minutos, ou até que a massa esteja dourada e o queijo derretido.\n",
            "\n",
            "**Dicas:**\n",
            "\n",
            "* Você pode usar qualquer tipo de massa de pizza que preferir, como massa pré-pronta ou massa caseira.\n",
            "* Você pode adicionar outros ingredientes ao recheio, como cogumelos, pimentões ou azeitonas.\n",
            "* Sirva a pizza quente com sua cobertura favorita, como ketchup, mostarda ou maionese. \n",
            "\n"
          ]
        }
      ],
      "source": [
        "#Instalação\n",
        "!pip install -U -q google-generativeai\n",
        "\n",
        "#Importar Bibliotecas\n",
        "import pandas as pd\n",
        "import numpy as np\n",
        "\n",
        "#Chave\n",
        "import google.generativeai as genai\n",
        "from google.colab import userdata\n",
        "chave = userdata.get(\"SECRET_KEY\")\n",
        "genai.configure(api_key=chave)\n",
        "\n",
        "#Configurações\n",
        "generation_config = {\n",
        "    \"candidate_count\": 1,\n",
        "    \"temperature\": 0.5,\n",
        "}\n",
        "\n",
        "safety_settings = {\n",
        "    \"HARASSMENT\": \"BLOCK_SOME\",\n",
        "    \"HATE\": \"BLOCK_SOME\",\n",
        "    \"SEXUAL\": \"BLOCK_SOME\",\n",
        "    \"DANGEROUS\": \"BLOCK_SOME\",\n",
        "\n",
        "}\n",
        "\n",
        "model = genai.GenerativeModel(model_name=\"gemini-1.0-pro\",\n",
        "                              generation_config=generation_config,\n",
        "                              )\n",
        "\n",
        "chat = model.start_chat(history=[])\n",
        "\n",
        "\n",
        "#Pergunta para o Usuário\n",
        "prompt = input(\"Olá, bem-vindo ao ReceitIA!\\nQual receita você deseja conhecer: \")\n",
        "parar = \"Não\"\n",
        "\n",
        "while parar == \"Não\":\n",
        "  response = chat.send_message(\"Responda somente 'Sim' ou 'Não':\"+ prompt+ \" é uma comida com receita\")\n",
        "  if response.text==\"Sim\":\n",
        "      parar = \"Sim\"\n",
        "      resposta = chat.send_message(\"Qual é a receita de \"+ prompt+\"?\")\n",
        "      print(\"------------------------------\")\n",
        "      print(\"Receita: \", resposta.text, \"\\n\")\n",
        "  elif response.text==\"Não\":\n",
        "      print(\"------------------------------\")\n",
        "      print(prompt+\" não tem receita\")\n",
        "      prompt = input(\"Insirá uma receita válida:\\n\")\n",
        "\n",
        "\n"
      ]
    }
  ]
}