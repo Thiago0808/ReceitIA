{
  "nbformat": 4,
  "nbformat_minor": 0,
  "metadata": {
    "colab": {
      "provenance": [],
      "authorship_tag": "ABX9TyNK4iCaBicK4nRdTDt4VCIx",
      "include_colab_link": true
    },
    "kernelspec": {
      "name": "python3",
      "display_name": "Python 3"
    },
    "language_info": {
      "name": "python"
    }
  },
  "cells": [
    {
      "cell_type": "markdown",
      "metadata": {
        "id": "view-in-github",
        "colab_type": "text"
      },
      "source": [
        "<a href=\"https://colab.research.google.com/github/Thiago0808/ReceitIA/blob/main/ReceitIA.ipynb\" target=\"_parent\"><img src=\"https://colab.research.google.com/assets/colab-badge.svg\" alt=\"Open In Colab\"/></a>"
      ]
    },
    {
      "cell_type": "code",
      "execution_count": null,
      "metadata": {
        "id": "_F-R-DwdINyb"
      },
      "outputs": [],
      "source": [
        "#Instalação\n",
        "!pip install -U -q google-generativeai\n",
        "\n",
        "#Importar Bibliotecas\n",
        "import pandas as pd\n",
        "import numpy as np\n",
        "\n",
        "#Chave\n",
        "import google.generativeai as genai\n",
        "from google.colab import userdata\n",
        "chave = userdata.get(\"SECRET_KEY\")\n",
        "genai.configure(api_key=chave)\n",
        "\n",
        "#Configurações\n",
        "generation_config = {\n",
        "    \"candidate_count\": 1,\n",
        "    \"temperature\": 0.5,\n",
        "}\n",
        "\n",
        "safety_settings = {\n",
        "    \"HARASSMENT\": \"BLOCK_SOME\",\n",
        "    \"HATE\": \"BLOCK_SOME\",\n",
        "    \"SEXUAL\": \"BLOCK_SOME\",\n",
        "    \"DANGEROUS\": \"BLOCK_SOME\",\n",
        "\n",
        "}\n",
        "\n",
        "model = genai.GenerativeModel(model_name=\"gemini-1.0-pro\",\n",
        "                              generation_config=generation_config,\n",
        "                              )\n",
        "\n",
        "chat = model.start_chat(history=[])\n",
        "\n",
        "\n",
        "#Pergunta para o Usuário\n",
        "prompt = input(\"Olá, bem-vindo ao ReceitIA!\\nQual receita você deseja conhecer: \")\n",
        "parar = \"Não\"\n",
        "\n",
        "while parar == \"Não\":\n",
        "  response = chat.send_message(\"Responda somente 'Sim' ou 'Não':\"+ prompt+ \" é uma comida com receita\")\n",
        "  if response.text==\"Sim\":\n",
        "      parar = \"Sim\"\n",
        "      resposta = chat.send_message(\"Qual é a receita de \"+ prompt+\"?\")\n",
        "      print(\"------------------------------\")\n",
        "      print(\"Receita: \", resposta.text, \"\\n\")\n",
        "  elif response.text==\"Não\":\n",
        "      print(\"------------------------------\")\n",
        "      print(prompt+\" não tem receita\")\n",
        "      prompt = input(\"Insirá uma receita válida:\\n\")\n",
        "\n",
        "\n"
      ]
    }
  ]
}